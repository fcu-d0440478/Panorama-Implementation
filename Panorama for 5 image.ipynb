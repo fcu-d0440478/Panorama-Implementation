{
 "cells": [
  {
   "cell_type": "markdown",
   "metadata": {},
   "source": [
    "# 找到各個A圖到B圖，每點最像的前三個點。前置作業，讀檔、找特徵點。"
   ]
  },
  {
   "cell_type": "code",
   "execution_count": 13,
   "metadata": {},
   "outputs": [],
   "source": [
    "# import 套件\n",
    "\n",
    "import numpy as np\n",
    "import cv2\n",
    "import random\n",
    "import heapq\n",
    "import matplotlib.pyplot as plt\n",
    "%matplotlib inline"
   ]
  },
  {
   "cell_type": "markdown",
   "metadata": {},
   "source": [
    "### Translate轉換到大張圖上的function"
   ]
  },
  {
   "cell_type": "code",
   "execution_count": 14,
   "metadata": {},
   "outputs": [],
   "source": [
    "\"\"\" 輸入xy，輸出能對到黑圖的xy \"\"\"\n",
    "def translateToBlackImg(x, y):\n",
    "    # 位移量\n",
    "    Tx = 250\n",
    "    Ty = 250\n",
    "    M_translation = np.array([\n",
    "        (1,  0,  Tx),\n",
    "        (0,  1,  Ty),\n",
    "        (0,  0,  1),\n",
    "    ])\n",
    "    pair = np.dot(M_translation, np.array([x,y,1]))\n",
    "    return pair"
   ]
  },
  {
   "cell_type": "code",
   "execution_count": 15,
   "metadata": {},
   "outputs": [],
   "source": [
    "def SIFT(imgA, imgB):\n",
    "    # 彩色轉灰階\n",
    "    imgAgray = cv2.cvtColor(imgA, cv2.COLOR_BGR2GRAY)\n",
    "    imgBgray = cv2.cvtColor(imgB, cv2.COLOR_BGR2GRAY)\n",
    "\n",
    "    # SIFT\n",
    "    sift = cv2.xfeatures2d_SIFT().create()\n",
    "\n",
    "    # find the keypoints and descriptors with SIFT\n",
    "    # SIFT產生KeyPoint和其descriptor\n",
    "    kp1, des1 = sift.detectAndCompute(imgAgray, None)\n",
    "    kp2, des2 = sift.detectAndCompute(imgBgray, None)\n",
    "    return kp1, des1, kp2, des2"
   ]
  },
  {
   "cell_type": "markdown",
   "metadata": {},
   "source": [
    "# 開始計算。從A圖找最近的前三個點，並只採用與最近的點之距離在圖中所有點之10%(100內)"
   ]
  },
  {
   "cell_type": "code",
   "execution_count": 16,
   "metadata": {},
   "outputs": [],
   "source": [
    "\"\"\" 輸入單一點特徵值和第二張圖的所有點特徵陣列，輸出最接近之(圖片index, 距離) \"\"\"\n",
    "def findNearest(target_des, second_des_arr):\n",
    "    distance = []\n",
    "    for i in second_des_arr:\n",
    "        distance.append(np.linalg.norm(target_des - i))\n",
    "    # 取前三接近 [(圖片1index, 距離),(圖片2index, 距離),(圖片3index, 距離)]\n",
    "    Ksmallest = map(lambda n: (distance.index(n), n), heapq.nsmallest(3, distance))\n",
    "    return list(Ksmallest)"
   ]
  },
  {
   "cell_type": "code",
   "execution_count": 17,
   "metadata": {},
   "outputs": [],
   "source": [
    "def get_suitable_point(kp1, des1, kp2, des2):\n",
    "    distance_list = []\n",
    "\n",
    "    # 找出A圖點對B圖的所有點的距離\n",
    "    for i in range(len(kp1)):\n",
    "        distance = findNearest(des1[i], des2)\n",
    "        distance_list.append(distance)\n",
    "        \n",
    "    # 找出可靠的幾個點\n",
    "    reliable_points = []\n",
    "    for i in range(len(distance_list)):\n",
    "        \"\"\" content => [(29, 352.12073), (397, 396.2537), (233, 397.76376)] \"\"\"\n",
    "        content = distance_list[i]\n",
    "\n",
    "        # i[0][1] 可以取到最近的點之距離(271.92096之類的)，小於100選用\n",
    "        if content[0][1] < 80:\n",
    "            reliable_points.append([i, content])\n",
    "        # reliable_points => 多個 [199, [(32, 78.657486), (449, 203.3224), (547, 209.7856)]]\n",
    "    return reliable_points"
   ]
  },
  {
   "cell_type": "markdown",
   "metadata": {},
   "source": [
    "# 計算homography矩陣。隨機取四個出來，拿來算Affine Transformation。(Run cell below)"
   ]
  },
  {
   "cell_type": "code",
   "execution_count": 18,
   "metadata": {},
   "outputs": [],
   "source": [
    "def get_random_points(reliable_points, kp1 ,kp2):\n",
    "    # 亂數index產生\n",
    "    rand_index_list = []\n",
    "    for i in range(4):\n",
    "        rand_index = int(random.random() * len(reliable_points))\n",
    "        rand_index_list.append(rand_index)\n",
    "        # rand_index_list => 多個 [71, 45, 64, 139]\n",
    "\n",
    "    # 取得座標，對應的keypair\n",
    "    source_point = []\n",
    "    destination_point = []\n",
    "\n",
    "    # A圖選任意4個點index\n",
    "    for rand in rand_index_list:\n",
    "        print(\"random number:\", rand)\n",
    "        indexA = reliable_points[rand][0]\n",
    "        indexB = reliable_points[rand][1][0][0]\n",
    "        print(\"index from A picture:\", indexA)\n",
    "        print(\"index from B picture:\", indexB)\n",
    "\n",
    "        # A圖 點座標\n",
    "        pt_a = kp1[indexA].pt\n",
    "        # B圖 點座標\n",
    "        pt_b = kp2[indexB].pt\n",
    "\n",
    "        print(\"point from A picture:\", pt_a)\n",
    "        print(\"point from B picture:\", pt_b)\n",
    "\n",
    "        source_point.append(pt_a)\n",
    "        destination_point.append(pt_b)\n",
    "    print()\n",
    "    return source_point, destination_point"
   ]
  },
  {
   "cell_type": "code",
   "execution_count": 19,
   "metadata": {},
   "outputs": [],
   "source": [
    "def calculate_affine_matrix(source_point, destination_point):\n",
    "    # def calculate_affine(source_point, destination_point):\n",
    "    source_point = np.array(source_point)\n",
    "    destination_point = np.array(destination_point)\n",
    "\n",
    "    source_point = source_point.reshape(8)\n",
    "    destination_point = destination_point.reshape(8)\n",
    "\n",
    "    # 8*6 大矩陣，已知\n",
    "    matrix_A = np.zeros((8, 6))\n",
    "    # 1*6 abcdef，轉過去用的矩陣，未知\n",
    "    matrix_Affine = np.zeros((6))\n",
    "    # 1*8 B圖的對應點組成的矩陣，已知\n",
    "    matrix_B = np.array(destination_point)\n",
    "    matrix_B = matrix_B.reshape((8, 1))\n",
    "\n",
    "    x1 = source_point[0]\n",
    "    y1 = source_point[1]\n",
    "    x2 = source_point[2]\n",
    "    y2 = source_point[3]\n",
    "    x3 = source_point[4]\n",
    "    y3 = source_point[5]\n",
    "    x4 = source_point[6]\n",
    "    y4 = source_point[7]\n",
    "\n",
    "    matrix_A = np.array([\n",
    "        (x1, y1, 1, 0, 0, 0),\n",
    "        (0, 0, 0, x1, y1, 1),\n",
    "        (x2, y2, 1, 0, 0, 0),\n",
    "        (0, 0, 0, x2, y2, 1),\n",
    "        (x3, y3, 1, 0, 0, 0),\n",
    "        (0, 0, 0, x3, y3, 1),\n",
    "        (x4, y4, 1, 0, 0, 0),\n",
    "        (0, 0, 0, x4, y4, 1),\n",
    "    ])\n",
    "\n",
    "    # Affine轉換矩陣\n",
    "    matrix_Affine = np.dot(np.linalg.pinv(matrix_A), matrix_B)\n",
    "    matrix_Affine = matrix_Affine.reshape((2, 3))\n",
    "    return matrix_Affine"
   ]
  },
  {
   "cell_type": "markdown",
   "metadata": {},
   "source": [
    "### Controller"
   ]
  },
  {
   "cell_type": "code",
   "execution_count": 20,
   "metadata": {},
   "outputs": [],
   "source": [
    "def stich_image(imgA, imgB):\n",
    "    kp1, des1, kp2, des2 = SIFT(imgA, imgB)\n",
    "    reliable_points = get_suitable_point(kp1, des1, kp2, des2)\n",
    "    source_point, destination_point = get_random_points(reliable_points, kp1, kp2)\n",
    "    matrix_Affine = calculate_affine_matrix(source_point, destination_point)\n",
    "    \n",
    "    # 把imgA顏色蓋到黑圖上\n",
    "    # Using for loop to iterate every point -> find (Xa,Ya) -> (Xb,Yb)\n",
    "    for y in range(imgA.shape[0]):\n",
    "        for x in range(imgA.shape[1]):\n",
    "            # get Affine Mappings location through matrix\n",
    "            dot_prime = np.dot(matrix_Affine, np.array([x,y,1]))\n",
    "\n",
    "            # 計算出來的A圖到B圖之坐標系\n",
    "            x_loc = int(dot_prime[0])\n",
    "            y_loc = int(dot_prime[1])\n",
    "\n",
    "            pair = translateToBlackImg(x_loc, y_loc)\n",
    "            blank_image[pair[1]][pair[0]] = imgA[y][x]"
   ]
  },
  {
   "cell_type": "markdown",
   "metadata": {},
   "source": [
    "# Main"
   ]
  },
  {
   "cell_type": "code",
   "execution_count": 21,
   "metadata": {},
   "outputs": [
    {
     "name": "stdout",
     "output_type": "stream",
     "text": [
      "random number: 121\n",
      "index from A picture: 792\n",
      "index from B picture: 1154\n",
      "point from A picture: (404.9104919433594, 428.3486328125)\n",
      "point from B picture: (400.7877502441406, 320.90216064453125)\n",
      "random number: 127\n",
      "index from A picture: 823\n",
      "index from B picture: 1244\n",
      "point from A picture: (422.77838134765625, 312.243896484375)\n",
      "point from B picture: (423.54693603515625, 209.63217163085938)\n",
      "random number: 158\n",
      "index from A picture: 956\n",
      "index from B picture: 1412\n",
      "point from A picture: (456.74847412109375, 322.97552490234375)\n",
      "point from B picture: (456.98321533203125, 219.93373107910156)\n",
      "random number: 89\n",
      "index from A picture: 562\n",
      "index from B picture: 843\n",
      "point from A picture: (298.50567626953125, 313.93145751953125)\n",
      "point from B picture: (298.9090576171875, 213.67735290527344)\n",
      "\n",
      "random number: 202\n",
      "index from A picture: 1142\n",
      "index from B picture: 1055\n",
      "point from A picture: (366.8664855957031, 287.7658996582031)\n",
      "point from B picture: (365.08636474609375, 356.033203125)\n",
      "random number: 275\n",
      "index from A picture: 1487\n",
      "index from B picture: 1396\n",
      "point from A picture: (450.0611267089844, 314.2070007324219)\n",
      "point from B picture: (450.3336486816406, 381.6138610839844)\n",
      "random number: 274\n",
      "index from A picture: 1481\n",
      "index from B picture: 1357\n",
      "point from A picture: (448.41668701171875, 231.96014404296875)\n",
      "point from B picture: (443.6779479980469, 297.43597412109375)\n",
      "random number: 280\n",
      "index from A picture: 1500\n",
      "index from B picture: 1373\n",
      "point from A picture: (451.1966552734375, 234.12184143066406)\n",
      "point from B picture: (446.2908630371094, 299.4237060546875)\n",
      "\n",
      "random number: 90\n",
      "index from A picture: 980\n",
      "index from B picture: 699\n",
      "point from A picture: (327.3862609863281, 180.54757690429688)\n",
      "point from B picture: (247.0382843017578, 174.75466918945312)\n",
      "random number: 45\n",
      "index from A picture: 712\n",
      "index from B picture: 402\n",
      "point from A picture: (238.74105834960938, 236.71734619140625)\n",
      "point from B picture: (153.81793212890625, 226.4688262939453)\n",
      "random number: 79\n",
      "index from A picture: 905\n",
      "index from B picture: 599\n",
      "point from A picture: (298.6558532714844, 341.56060791015625)\n",
      "point from B picture: (210.0068817138672, 333.9580383300781)\n",
      "random number: 8\n",
      "index from A picture: 470\n",
      "index from B picture: 91\n",
      "point from A picture: (132.77786254882812, 299.682373046875)\n",
      "point from B picture: (36.38553237915039, 287.57830810546875)\n",
      "\n",
      "random number: 95\n",
      "index from A picture: 702\n",
      "index from B picture: 1066\n",
      "point from A picture: (277.9619445800781, 457.79010009765625)\n",
      "point from B picture: (367.3790588378906, 439.8948059082031)\n",
      "random number: 25\n",
      "index from A picture: 230\n",
      "index from B picture: 466\n",
      "point from A picture: (94.36141204833984, 200.6938018798828)\n",
      "point from B picture: (168.7648162841797, 194.0635223388672)\n",
      "random number: 0\n",
      "index from A picture: 34\n",
      "index from B picture: 292\n",
      "point from A picture: (25.127676010131836, 296.79400634765625)\n",
      "point from B picture: (111.75494384765625, 290.1811218261719)\n",
      "random number: 28\n",
      "index from A picture: 266\n",
      "index from B picture: 544\n",
      "point from A picture: (105.04899597167969, 388.18212890625)\n",
      "point from B picture: (191.15347290039062, 374.5716552734375)\n",
      "\n"
     ]
    }
   ],
   "source": [
    "# 讀檔\n",
    "img1 = cv2.imread(\"./picture_file/data6/pic1.jpg\")\n",
    "img2 = cv2.imread(\"./picture_file/data6/pic2.jpg\")\n",
    "img3 = cv2.imread(\"./picture_file/data6/pic3.jpg\")\n",
    "img4 = cv2.imread(\"./picture_file/data6/pic4.jpg\")\n",
    "img5 = cv2.imread(\"./picture_file/data6/pic5.jpg\")\n",
    "\n",
    "# 做很大張的黑底圖，蓋圖片用的\n",
    "blank_image = np.zeros((1000,1000,3), np.uint8)\n",
    "\n",
    "# 圖一先上 \n",
    "for y in range(img1.shape[0]):\n",
    "    for x in range(img1.shape[1]):\n",
    "        pair = translateToBlackImg(x,y)\n",
    "        blank_image[pair[1]][pair[0]] = img1[y][x]\n",
    "\n",
    "stich_image(img2, img1)\n",
    "stich_image(img3, img1)\n",
    "stich_image(img4, img1)\n",
    "stich_image(img5, img1)"
   ]
  },
  {
   "cell_type": "markdown",
   "metadata": {},
   "source": [
    "### Show 圖片"
   ]
  },
  {
   "cell_type": "code",
   "execution_count": 22,
   "metadata": {},
   "outputs": [],
   "source": [
    "cv2.imshow('Result', blank_image)\n",
    "cv2.waitKey(0)\n",
    "cv2.destroyAllWindows()"
   ]
  },
  {
   "cell_type": "markdown",
   "metadata": {},
   "source": [
    "### JupyterNotebook看圖"
   ]
  },
  {
   "cell_type": "code",
   "execution_count": 23,
   "metadata": {},
   "outputs": [
    {
     "data": {
      "image/png": "[encoded data removed]",
      "text/plain": [
       "<Figure size 432x288 with 1 Axes>"
      ]
     },
     "metadata": {
      "needs_background": "light"
     },
     "output_type": "display_data"
    }
   ],
   "source": [
    "plt.imshow(cv2.cvtColor(blank_image, cv2.COLOR_BGR2RGB))\n",
    "plt.show()"
   ]
  },
  {
   "cell_type": "markdown",
   "metadata": {},
   "source": [
    "### 存檔"
   ]
  },
  {
   "cell_type": "code",
   "execution_count": 24,
   "metadata": {},
   "outputs": [
    {
     "data": {
      "text/plain": [
       "True"
      ]
     },
     "execution_count": 24,
     "metadata": {},
     "output_type": "execute_result"
    }
   ],
   "source": [
    "cv2.imwrite('./output_file/panorama5Imgs.jpg', blank_image)"
   ]
  }
 ],
 "metadata": {
  "kernelspec": {
   "display_name": "Python 3",
   "language": "python",
   "name": "python3"
  },
  "language_info": {
   "codemirror_mode": {
    "name": "ipython",
    "version": 3
   },
   "file_extension": ".py",
   "mimetype": "text/x-python",
   "name": "python",
   "nbconvert_exporter": "python",
   "pygments_lexer": "ipython3",
   "version": "3.12.2"
  }
 },
 "nbformat": 4,
 "nbformat_minor": 2
}
